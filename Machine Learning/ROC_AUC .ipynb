{
 "cells": [
  {
   "cell_type": "code",
   "execution_count": 1,
   "metadata": {},
   "outputs": [],
   "source": [
    "from sklearn.datasets import load_breast_cancer\n",
    "import pandas as pd\n",
    "pd.set_option('display.max_columns',30)\n",
    "dados = load_breast_cancer()\n",
    "\n",
    "x = pd.DataFrame(dados.data, columns=[dados.feature_names])\n",
    "y = pd.Series(dados.target)"
   ]
  },
  {
   "cell_type": "code",
   "execution_count": 2,
   "metadata": {},
   "outputs": [
    {
     "name": "stdout",
     "output_type": "stream",
     "text": [
      "(569, 30) (569,)\n"
     ]
    }
   ],
   "source": [
    "x.head()\n",
    "print(x.shape, y.shape)"
   ]
  },
  {
   "cell_type": "code",
   "execution_count": 5,
   "metadata": {},
   "outputs": [
    {
     "name": "stdout",
     "output_type": "stream",
     "text": [
      "Acurácia =  0.9590643274853801\n"
     ]
    },
    {
     "name": "stderr",
     "output_type": "stream",
     "text": [
      "C:\\Users\\jose-\\anaconda3\\lib\\site-packages\\sklearn\\linear_model\\_logistic.py:940: ConvergenceWarning: lbfgs failed to converge (status=1):\n",
      "STOP: TOTAL NO. of ITERATIONS REACHED LIMIT.\n",
      "\n",
      "Increase the number of iterations (max_iter) or scale the data as shown in:\n",
      "    https://scikit-learn.org/stable/modules/preprocessing.html\n",
      "Please also refer to the documentation for alternative solver options:\n",
      "    https://scikit-learn.org/stable/modules/linear_model.html#logistic-regression\n",
      "  extra_warning_msg=_LOGISTIC_SOLVER_CONVERGENCE_MSG)\n"
     ]
    }
   ],
   "source": [
    "from sklearn.linear_model import LogisticRegression\n",
    "from sklearn.model_selection import cross_val_score\n",
    "from sklearn.model_selection import train_test_split\n",
    "\n",
    "#separando em dados de treino e dados de teste:\n",
    "x_treino, x_teste, y_treino, y_teste = train_test_split(x, y, test_size=0.3, random_state=9)\n",
    "\n",
    "#criando modelo\n",
    "modelo = LogisticRegression(C=100, penalty='l2')\n",
    "modelo.fit(x_treino, y_treino)\n",
    "\n",
    "#score\n",
    "resultado = modelo.score(x_teste, y_teste)\n",
    "print(\"Acurácia = \", resultado)"
   ]
  },
  {
   "cell_type": "code",
   "execution_count": 6,
   "metadata": {},
   "outputs": [
    {
     "name": "stdout",
     "output_type": "stream",
     "text": [
      "[[6.12679348e-02 9.38732065e-01]\n",
      " [4.66925141e-01 5.33074859e-01]\n",
      " [1.00000000e+00 7.44227514e-12]\n",
      " [1.84009270e-02 9.81599073e-01]\n",
      " [7.83059819e-04 9.99216940e-01]\n",
      " [1.00000000e+00 1.21372088e-13]\n",
      " [1.00000000e+00 5.26332426e-13]\n",
      " [9.99999839e-01 1.61261221e-07]\n",
      " [8.83167929e-03 9.91168321e-01]\n",
      " [9.99990095e-01 9.90492690e-06]\n",
      " [1.00000000e+00 8.37410966e-11]\n",
      " [3.81396888e-03 9.96186031e-01]\n",
      " [3.58903180e-04 9.99641097e-01]\n",
      " [1.54509159e-03 9.98454908e-01]\n",
      " [9.89439921e-01 1.05600793e-02]\n",
      " [4.29427549e-02 9.57057245e-01]\n",
      " [1.54307665e-04 9.99845692e-01]\n",
      " [2.41516557e-02 9.75848344e-01]\n",
      " [2.69720337e-05 9.99973028e-01]\n",
      " [2.08360342e-04 9.99791640e-01]\n",
      " [1.00000000e+00 1.35601283e-30]\n",
      " [2.91374481e-04 9.99708626e-01]\n",
      " [3.51170807e-03 9.96488292e-01]\n",
      " [9.99998995e-01 1.00532623e-06]\n",
      " [3.40978429e-03 9.96590216e-01]\n",
      " [1.01355775e-02 9.89864423e-01]\n",
      " [4.44763784e-02 9.55523622e-01]\n",
      " [2.13734368e-04 9.99786266e-01]\n",
      " [2.20284758e-03 9.97797152e-01]\n",
      " [9.99999999e-01 7.17269723e-10]\n",
      " [1.00000000e+00 3.51297500e-11]\n",
      " [3.62014518e-02 9.63798548e-01]\n",
      " [9.40537638e-01 5.94623623e-02]\n",
      " [6.08145359e-01 3.91854641e-01]\n",
      " [9.98753017e-01 1.24698347e-03]\n",
      " [1.00000000e+00 1.29117823e-11]\n",
      " [9.99999996e-01 4.01836387e-09]\n",
      " [2.46390526e-02 9.75360947e-01]\n",
      " [9.99978601e-01 2.13990189e-05]\n",
      " [2.74093741e-04 9.99725906e-01]\n",
      " [5.20382186e-01 4.79617814e-01]\n",
      " [6.75908694e-02 9.32409131e-01]\n",
      " [1.36189937e-02 9.86381006e-01]\n",
      " [8.39979930e-05 9.99916002e-01]\n",
      " [2.28537527e-03 9.97714625e-01]\n",
      " [9.39345850e-05 9.99906065e-01]\n",
      " [3.28988075e-01 6.71011925e-01]\n",
      " [1.00000000e+00 2.32940396e-16]\n",
      " [2.28086718e-01 7.71913282e-01]\n",
      " [9.97588281e-01 2.41171923e-03]\n",
      " [5.09188234e-01 4.90811766e-01]\n",
      " [4.27858044e-02 9.57214196e-01]\n",
      " [1.91154706e-03 9.98088453e-01]\n",
      " [1.09607729e-03 9.98903923e-01]\n",
      " [1.00000000e+00 5.00722112e-12]\n",
      " [3.26021837e-04 9.99673978e-01]\n",
      " [1.30322683e-03 9.98696773e-01]\n",
      " [1.00000000e+00 2.87363416e-14]\n",
      " [5.36810412e-04 9.99463190e-01]\n",
      " [2.78821930e-03 9.97211781e-01]\n",
      " [7.55207551e-01 2.44792449e-01]\n",
      " [9.86560489e-01 1.34395114e-02]\n",
      " [1.00000000e+00 3.82916093e-14]\n",
      " [1.18834762e-03 9.98811652e-01]\n",
      " [1.52741870e-03 9.98472581e-01]\n",
      " [1.39248410e-02 9.86075159e-01]\n",
      " [1.00000000e+00 3.42469378e-37]\n",
      " [4.31825621e-03 9.95681744e-01]\n",
      " [8.35809276e-01 1.64190724e-01]\n",
      " [4.88337524e-05 9.99951166e-01]\n",
      " [1.76704914e-01 8.23295086e-01]\n",
      " [1.29428182e-03 9.98705718e-01]\n",
      " [4.88103195e-04 9.99511897e-01]\n",
      " [3.87736199e-04 9.99612264e-01]\n",
      " [9.99996528e-01 3.47224775e-06]\n",
      " [9.38702055e-01 6.12979453e-02]\n",
      " [5.45695682e-05 9.99945430e-01]\n",
      " [1.15212244e-04 9.99884788e-01]\n",
      " [5.90157881e-05 9.99940984e-01]\n",
      " [3.20554848e-04 9.99679445e-01]\n",
      " [2.58007580e-02 9.74199242e-01]\n",
      " [2.22941083e-02 9.77705892e-01]\n",
      " [7.26598899e-02 9.27340110e-01]\n",
      " [9.99999972e-01 2.78599514e-08]\n",
      " [2.77672744e-03 9.97223273e-01]\n",
      " [3.41998702e-03 9.96580013e-01]\n",
      " [3.05200303e-02 9.69479970e-01]\n",
      " [4.54077675e-04 9.99545922e-01]\n",
      " [1.00000000e+00 4.82218873e-12]\n",
      " [2.96913148e-03 9.97030869e-01]\n",
      " [6.17169296e-05 9.99938283e-01]\n",
      " [1.06205694e-03 9.98937943e-01]\n",
      " [1.25982523e-03 9.98740175e-01]\n",
      " [1.04744813e-01 8.95255187e-01]\n",
      " [9.88810545e-05 9.99901119e-01]\n",
      " [9.99999668e-01 3.32092256e-07]\n",
      " [7.46007584e-03 9.92539924e-01]\n",
      " [8.20053253e-03 9.91799467e-01]\n",
      " [1.42065807e-03 9.98579342e-01]\n",
      " [1.00000000e+00 8.21016000e-11]\n",
      " [5.05415517e-03 9.94945845e-01]\n",
      " [9.99999085e-01 9.15424105e-07]\n",
      " [1.99260582e-05 9.99980074e-01]\n",
      " [5.63131520e-05 9.99943687e-01]\n",
      " [2.68788441e-04 9.99731212e-01]\n",
      " [4.13600887e-05 9.99958640e-01]\n",
      " [9.99855095e-01 1.44904595e-04]\n",
      " [9.43067446e-01 5.69325536e-02]\n",
      " [6.52351475e-02 9.34764853e-01]\n",
      " [2.32050142e-03 9.97679499e-01]\n",
      " [1.66738653e-03 9.98332613e-01]\n",
      " [2.27753332e-04 9.99772247e-01]\n",
      " [1.04990406e-04 9.99895010e-01]\n",
      " [1.00000000e+00 3.27342754e-10]\n",
      " [5.62375681e-03 9.94376243e-01]\n",
      " [6.89019774e-04 9.99310980e-01]\n",
      " [3.89184706e-02 9.61081529e-01]\n",
      " [3.65706180e-03 9.96342938e-01]\n",
      " [1.00000000e+00 9.14188690e-26]\n",
      " [7.61885403e-04 9.99238115e-01]\n",
      " [9.99999982e-01 1.76071696e-08]\n",
      " [9.70805879e-01 2.91941206e-02]\n",
      " [1.33915928e-03 9.98660841e-01]\n",
      " [1.43729495e-03 9.98562705e-01]\n",
      " [1.00000000e+00 3.54428765e-20]\n",
      " [8.83448128e-05 9.99911655e-01]\n",
      " [1.73473382e-03 9.98265266e-01]\n",
      " [6.05633060e-03 9.93943669e-01]\n",
      " [7.84828075e-01 2.15171925e-01]\n",
      " [9.99977478e-01 2.25223393e-05]\n",
      " [9.99999995e-01 4.88681962e-09]\n",
      " [9.99999995e-01 5.24032361e-09]\n",
      " [9.99938122e-01 6.18784462e-05]\n",
      " [9.99939950e-01 6.00496087e-05]\n",
      " [2.42714724e-03 9.97572853e-01]\n",
      " [1.64500662e-03 9.98354993e-01]\n",
      " [2.76437917e-03 9.97235621e-01]\n",
      " [7.26368746e-03 9.92736313e-01]\n",
      " [4.85111617e-03 9.95148884e-01]\n",
      " [1.00000000e+00 3.46083981e-20]\n",
      " [7.62958577e-04 9.99237041e-01]\n",
      " [9.99999832e-01 1.68240402e-07]\n",
      " [9.94958636e-01 5.04136425e-03]\n",
      " [1.48937324e-02 9.85106268e-01]\n",
      " [3.22570261e-04 9.99677430e-01]\n",
      " [1.24403949e-02 9.87559605e-01]\n",
      " [9.99999941e-01 5.86950536e-08]\n",
      " [1.00000000e+00 2.40168186e-23]\n",
      " [1.56526330e-03 9.98434737e-01]\n",
      " [2.90800490e-03 9.97091995e-01]\n",
      " [8.65511256e-01 1.34488744e-01]\n",
      " [4.61035829e-04 9.99538964e-01]\n",
      " [9.81428109e-01 1.85718909e-02]\n",
      " [4.83119160e-04 9.99516881e-01]\n",
      " [3.49028451e-02 9.65097155e-01]\n",
      " [9.64255116e-01 3.57448840e-02]\n",
      " [1.82648904e-03 9.98173511e-01]\n",
      " [6.02754153e-04 9.99397246e-01]\n",
      " [1.00000000e+00 2.33581921e-15]\n",
      " [2.29348218e-04 9.99770652e-01]\n",
      " [2.23367401e-03 9.97766326e-01]\n",
      " [8.22386850e-01 1.77613150e-01]\n",
      " [6.71528895e-01 3.28471105e-01]\n",
      " [1.00000000e+00 1.15941406e-25]\n",
      " [1.30514204e-03 9.98694858e-01]\n",
      " [6.73373241e-05 9.99932663e-01]\n",
      " [1.00000000e+00 1.83318677e-15]\n",
      " [4.90771310e-04 9.99509229e-01]\n",
      " [4.21361601e-04 9.99578638e-01]\n",
      " [3.82913741e-06 9.99996171e-01]\n",
      " [1.54754219e-04 9.99845246e-01]]\n"
     ]
    }
   ],
   "source": [
    "previsoes = modelo.predict_proba(x_teste)\n",
    "print(previsoes)"
   ]
  },
  {
   "cell_type": "code",
   "execution_count": 24,
   "metadata": {},
   "outputs": [],
   "source": [
    "probs = previsoes[:,1]#usando somente a segunda coluna"
   ]
  },
  {
   "cell_type": "code",
   "execution_count": 25,
   "metadata": {},
   "outputs": [],
   "source": [
    "from sklearn.metrics import roc_curve\n",
    "fpr,tpr,thresholds = roc_curve(y_teste, probs)"
   ]
  },
  {
   "cell_type": "code",
   "execution_count": 26,
   "metadata": {},
   "outputs": [
    {
     "name": "stdout",
     "output_type": "stream",
     "text": [
      "TPR:  [0.         0.00917431 0.82568807 0.82568807 0.91743119 0.91743119\n",
      " 0.97247706 0.97247706 0.98165138 0.98165138 0.99082569 0.99082569\n",
      " 1.         1.        ]\n",
      "FPR:  [0.         0.         0.         0.01612903 0.01612903 0.03225806\n",
      " 0.03225806 0.08064516 0.08064516 0.09677419 0.09677419 0.20967742\n",
      " 0.20967742 1.        ]\n",
      "THRESHOLDS:  [1.99999617e+00 9.99996171e-01 9.81599073e-01 9.77705892e-01\n",
      " 9.55523622e-01 9.38732065e-01 7.71913282e-01 4.90811766e-01\n",
      " 4.79617814e-01 3.91854641e-01 3.28471105e-01 5.94623623e-02\n",
      " 5.69325536e-02 3.42469378e-37]\n"
     ]
    }
   ],
   "source": [
    "print('TPR: ',tpr)\n",
    "print('FPR: ',fpr)\n",
    "print('THRESHOLDS: ',thresholds)"
   ]
  },
  {
   "cell_type": "code",
   "execution_count": 27,
   "metadata": {},
   "outputs": [
    {
     "data": {
      "image/png": "[encoded data removed]",
      "text/plain": [
       "<Figure size 432x288 with 1 Axes>"
      ]
     },
     "metadata": {
      "needs_background": "light"
     },
     "output_type": "display_data"
    }
   ],
   "source": [
    "import matplotlib.pyplot as plt\n",
    "plt.scatter(fpr,tpr)\n",
    "plt.show()"
   ]
  },
  {
   "cell_type": "code",
   "execution_count": null,
   "metadata": {},
   "outputs": [],
   "source": []
  }
 ],
 "metadata": {
  "kernelspec": {
   "display_name": "Python 3",
   "language": "python",
   "name": "python3"
  },
  "language_info": {
   "codemirror_mode": {
    "name": "ipython",
    "version": 3
   },
   "file_extension": ".py",
   "mimetype": "text/x-python",
   "name": "python",
   "nbconvert_exporter": "python",
   "pygments_lexer": "ipython3",
   "version": "3.7.6"
  }
 },
 "nbformat": 4,
 "nbformat_minor": 4
}
